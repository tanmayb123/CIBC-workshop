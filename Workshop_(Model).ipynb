{
  "cells": [
    {
      "cell_type": "code",
      "execution_count": null,
      "metadata": {
        "id": "JmMktKhYwgnp"
      },
      "outputs": [],
      "source": [
        "import tensorflow as tf\n",
        "from typing import Dict, Tuple\n",
        "from google.colab import drive\n",
        "import numpy as np\n",
        "import pickle\n",
        "import os"
      ]
    },
    {
      "cell_type": "code",
      "execution_count": null,
      "metadata": {
        "id": "B2PU9gD1x3tC"
      },
      "outputs": [],
      "source": [
        "# Load the data from Google Drive\n",
        "def load_data_from_drive(folder_name: str) -> Tuple[np.ndarray, np.ndarray, Dict[int, str]]:\n",
        "    drive.mount('/content/drive')\n",
        "    folder_path = os.path.join('/content/drive/My Drive', folder_name)\n",
        "    images = np.load(os.path.join(folder_path, 'images.npy'))\n",
        "    labels = np.load(os.path.join(folder_path, 'labels.npy'))\n",
        "    with open(os.path.join(folder_path, 'class_mapping.pkl'), 'rb') as f:\n",
        "        class_dict = pickle.load(f)\n",
        "    print(f\"Loaded {len(images)} images and labels from {folder_name} in Google Drive\")\n",
        "    return images, labels, class_dict\n",
        "\n",
        "# Create the Keras model for fine-tuning\n",
        "def create_model_for_finetuning(num_classes: int) -> tf.keras.Model:\n",
        "    base_model = tf.keras.applications.convnext.ConvNeXtLarge(weights='imagenet', include_top=False, input_shape=(224, 224, 3))\n",
        "    x = base_model.output\n",
        "    x = tf.keras.layers.GlobalAveragePooling2D()(x)\n",
        "    x = tf.keras.layers.Dropout(0.5)(x)\n",
        "    predictions = tf.keras.layers.Dense(num_classes, activation='softmax')(x)\n",
        "    model = tf.keras.Model(inputs=base_model.input, outputs=predictions)\n",
        "    for layer in base_model.layers:\n",
        "        layer.trainable = False\n",
        "    return model"
      ]
    },
    {
      "cell_type": "code",
      "execution_count": null,
      "metadata": {
        "colab": {
          "base_uri": "https://localhost:8080/"
        },
        "id": "X3KWUIWHx6vv",
        "outputId": "eecdfc14-6011-43a7-996d-58447ea05a4c"
      },
      "outputs": [
        {
          "name": "stdout",
          "output_type": "stream",
          "text": [
            "Mounted at /content/drive\n",
            "Loaded 3600 images and labels from michael_tanmay_ibm_ai_workshop in Google Drive\n",
            "(3600, 224, 224, 3)\n",
            "(3600,)\n"
          ]
        }
      ],
      "source": [
        "images, labels, class_dict = load_data_from_drive('michael_tanmay_ibm_ai_workshop')\n",
        "print(images.shape)\n",
        "print(labels.shape)"
      ]
    },
    {
      "cell_type": "code",
      "execution_count": null,
      "metadata": {
        "id": "fyRiYiyxyHgQ"
      },
      "outputs": [],
      "source": [
        "images = tf.keras.applications.convnext.preprocess_input(images)"
      ]
    },
    {
      "cell_type": "code",
      "execution_count": null,
      "metadata": {
        "colab": {
          "base_uri": "https://localhost:8080/"
        },
        "id": "IJWauQ-myQvj",
        "outputId": "bb673c8c-5882-45f1-bf23-c2249142326d"
      },
      "outputs": [
        {
          "name": "stdout",
          "output_type": "stream",
          "text": [
            "Downloading data from https://storage.googleapis.com/tensorflow/keras-applications/convnext/convnext_large_notop.h5\n",
            "785596384/785596384 [==============================] - 4s 0us/step\n"
          ]
        }
      ],
      "source": [
        "num_classes = len(class_dict)\n",
        "model = create_model_for_finetuning(num_classes=num_classes)\n",
        "model.summary()"
      ]
    },
    {
      "cell_type": "code",
      "execution_count": null,
      "metadata": {
        "id": "CFKoDI3x0kMI"
      },
      "outputs": [],
      "source": [
        "optimizer = tf.keras.optimizers.Adam(learning_rate=1e-3)\n",
        "loss = 'sparse_categorical_crossentropy'\n",
        "model.compile(optimizer=optimizer, loss=loss, metrics=['accuracy'])"
      ]
    },
    {
      "cell_type": "code",
      "execution_count": null,
      "metadata": {
        "id": "nYnga1iG29sV"
      },
      "outputs": [],
      "source": [
        "import random\n",
        "i = list(range(len(images)))\n",
        "random.shuffle(i)\n",
        "images = images[i]\n",
        "labels = labels[i]"
      ]
    },
    {
      "cell_type": "code",
      "execution_count": null,
      "metadata": {
        "colab": {
          "background_save": true,
          "base_uri": "https://localhost:8080/"
        },
        "id": "AJUM1Jiy0u5x",
        "outputId": "e8743333-cb0f-4c2d-b79c-a84feaf86cf8"
      },
      "outputs": [
        {
          "name": "stdout",
          "output_type": "stream",
          "text": [
            "Epoch 1/15\n",
            "102/102 [==============================] - 152s 1s/step - loss: 2.0270 - accuracy: 0.5975 - val_loss: 0.4231 - val_accuracy: 0.8861\n",
            "Epoch 2/15\n",
            "102/102 [==============================] - 121s 1s/step - loss: 0.3522 - accuracy: 0.9093 - val_loss: 0.3126 - val_accuracy: 0.9083\n",
            "Epoch 3/15\n",
            "102/102 [==============================] - 122s 1s/step - loss: 0.2165 - accuracy: 0.9417 - val_loss: 0.3061 - val_accuracy: 0.9111\n",
            "Epoch 4/15\n",
            "102/102 [==============================] - 123s 1s/step - loss: 0.1629 - accuracy: 0.9562 - val_loss: 0.2860 - val_accuracy: 0.9111\n",
            "Epoch 5/15\n",
            "102/102 [==============================] - 123s 1s/step - loss: 0.1156 - accuracy: 0.9694 - val_loss: 0.2860 - val_accuracy: 0.9028\n",
            "Epoch 6/15\n",
            "102/102 [==============================] - 123s 1s/step - loss: 0.0871 - accuracy: 0.9787 - val_loss: 0.2735 - val_accuracy: 0.9083\n",
            "Epoch 7/15\n",
            "102/102 [==============================] - 123s 1s/step - loss: 0.0724 - accuracy: 0.9830 - val_loss: 0.2690 - val_accuracy: 0.8944\n",
            "Epoch 8/15\n",
            "102/102 [==============================] - 123s 1s/step - loss: 0.0579 - accuracy: 0.9858 - val_loss: 0.2842 - val_accuracy: 0.9000\n",
            "Epoch 9/15\n",
            "102/102 [==============================] - 123s 1s/step - loss: 0.0484 - accuracy: 0.9898 - val_loss: 0.2718 - val_accuracy: 0.9139\n",
            "Epoch 10/15\n",
            "102/102 [==============================] - 123s 1s/step - loss: 0.0427 - accuracy: 0.9910 - val_loss: 0.2853 - val_accuracy: 0.9167\n",
            "Epoch 11/15\n",
            "102/102 [==============================] - 123s 1s/step - loss: 0.0377 - accuracy: 0.9920 - val_loss: 0.2699 - val_accuracy: 0.9167\n",
            "Epoch 12/15\n",
            "102/102 [==============================] - 123s 1s/step - loss: 0.0328 - accuracy: 0.9929 - val_loss: 0.2911 - val_accuracy: 0.9083\n",
            "Epoch 13/15\n",
            "102/102 [==============================] - 114s 1s/step - loss: 0.0296 - accuracy: 0.9951 - val_loss: 0.2804 - val_accuracy: 0.9083\n",
            "Epoch 14/15\n",
            "102/102 [==============================] - 114s 1s/step - loss: 0.0285 - accuracy: 0.9951 - val_loss: 0.2986 - val_accuracy: 0.9056\n",
            "Epoch 15/15\n",
            "102/102 [==============================] - 124s 1s/step - loss: 0.0221 - accuracy: 0.9963 - val_loss: 0.3096 - val_accuracy: 0.9167\n"
          ]
        },
        {
          "data": {
            "text/plain": [
              "<keras.callbacks.History at 0x7fc92ffd60d0>"
            ]
          },
          "execution_count": 8,
          "metadata": {},
          "output_type": "execute_result"
        }
      ],
      "source": [
        "batch_size = 32\n",
        "shuffle = True\n",
        "validation_split = 0.1\n",
        "epochs = 15\n",
        "model.fit(images, labels, batch_size=batch_size, shuffle=shuffle, validation_split=validation_split, epochs=epochs)"
      ]
    },
    {
      "cell_type": "code",
      "execution_count": null,
      "metadata": {
        "id": "t6-ak9302j_4"
      },
      "outputs": [],
      "source": [
        "from PIL import Image\n",
        "from io import BytesIO\n",
        "from google.colab import files\n",
        "\n",
        "def load_image_from_upload() -> Image.Image:\n",
        "    \"\"\"\n",
        "    Let the user upload an image into the Colab cell interface and load it using Pillow.\n",
        "\n",
        "    Returns:\n",
        "        A Pillow Image object of the uploaded image.\n",
        "    \"\"\"\n",
        "    uploaded = files.upload()\n",
        "    img_bytes = BytesIO(uploaded[next(iter(uploaded))])\n",
        "    img = Image.open(img_bytes)\n",
        "    return img"
      ]
    },
    {
      "cell_type": "code",
      "execution_count": null,
      "metadata": {
        "colab": {
          "base_uri": "https://localhost:8080/",
          "height": 73
        },
        "id": "HFl_NeaX4OEt",
        "outputId": "2f3124aa-2340-44a0-93cb-aa847621f593"
      },
      "outputs": [
        {
          "data": {
            "text/html": [
              "\n",
              "     <input type=\"file\" id=\"files-e6f21340-3405-4d5e-a78d-77d8548fd135\" name=\"files[]\" multiple disabled\n",
              "        style=\"border:none\" />\n",
              "     <output id=\"result-e6f21340-3405-4d5e-a78d-77d8548fd135\">\n",
              "      Upload widget is only available when the cell has been executed in the\n",
              "      current browser session. Please rerun this cell to enable.\n",
              "      </output>\n",
              "      <script>// Copyright 2017 Google LLC\n",
              "//\n",
              "// Licensed under the Apache License, Version 2.0 (the \"License\");\n",
              "// you may not use this file except in compliance with the License.\n",
              "// You may obtain a copy of the License at\n",
              "//\n",
              "//      http://www.apache.org/licenses/LICENSE-2.0\n",
              "//\n",
              "// Unless required by applicable law or agreed to in writing, software\n",
              "// distributed under the License is distributed on an \"AS IS\" BASIS,\n",
              "// WITHOUT WARRANTIES OR CONDITIONS OF ANY KIND, either express or implied.\n",
              "// See the License for the specific language governing permissions and\n",
              "// limitations under the License.\n",
              "\n",
              "/**\n",
              " * @fileoverview Helpers for google.colab Python module.\n",
              " */\n",
              "(function(scope) {\n",
              "function span(text, styleAttributes = {}) {\n",
              "  const element = document.createElement('span');\n",
              "  element.textContent = text;\n",
              "  for (const key of Object.keys(styleAttributes)) {\n",
              "    element.style[key] = styleAttributes[key];\n",
              "  }\n",
              "  return element;\n",
              "}\n",
              "\n",
              "// Max number of bytes which will be uploaded at a time.\n",
              "const MAX_PAYLOAD_SIZE = 100 * 1024;\n",
              "\n",
              "function _uploadFiles(inputId, outputId) {\n",
              "  const steps = uploadFilesStep(inputId, outputId);\n",
              "  const outputElement = document.getElementById(outputId);\n",
              "  // Cache steps on the outputElement to make it available for the next call\n",
              "  // to uploadFilesContinue from Python.\n",
              "  outputElement.steps = steps;\n",
              "\n",
              "  return _uploadFilesContinue(outputId);\n",
              "}\n",
              "\n",
              "// This is roughly an async generator (not supported in the browser yet),\n",
              "// where there are multiple asynchronous steps and the Python side is going\n",
              "// to poll for completion of each step.\n",
              "// This uses a Promise to block the python side on completion of each step,\n",
              "// then passes the result of the previous step as the input to the next step.\n",
              "function _uploadFilesContinue(outputId) {\n",
              "  const outputElement = document.getElementById(outputId);\n",
              "  const steps = outputElement.steps;\n",
              "\n",
              "  const next = steps.next(outputElement.lastPromiseValue);\n",
              "  return Promise.resolve(next.value.promise).then((value) => {\n",
              "    // Cache the last promise value to make it available to the next\n",
              "    // step of the generator.\n",
              "    outputElement.lastPromiseValue = value;\n",
              "    return next.value.response;\n",
              "  });\n",
              "}\n",
              "\n",
              "/**\n",
              " * Generator function which is called between each async step of the upload\n",
              " * process.\n",
              " * @param {string} inputId Element ID of the input file picker element.\n",
              " * @param {string} outputId Element ID of the output display.\n",
              " * @return {!Iterable<!Object>} Iterable of next steps.\n",
              " */\n",
              "function* uploadFilesStep(inputId, outputId) {\n",
              "  const inputElement = document.getElementById(inputId);\n",
              "  inputElement.disabled = false;\n",
              "\n",
              "  const outputElement = document.getElementById(outputId);\n",
              "  outputElement.innerHTML = '';\n",
              "\n",
              "  const pickedPromise = new Promise((resolve) => {\n",
              "    inputElement.addEventListener('change', (e) => {\n",
              "      resolve(e.target.files);\n",
              "    });\n",
              "  });\n",
              "\n",
              "  const cancel = document.createElement('button');\n",
              "  inputElement.parentElement.appendChild(cancel);\n",
              "  cancel.textContent = 'Cancel upload';\n",
              "  const cancelPromise = new Promise((resolve) => {\n",
              "    cancel.onclick = () => {\n",
              "      resolve(null);\n",
              "    };\n",
              "  });\n",
              "\n",
              "  // Wait for the user to pick the files.\n",
              "  const files = yield {\n",
              "    promise: Promise.race([pickedPromise, cancelPromise]),\n",
              "    response: {\n",
              "      action: 'starting',\n",
              "    }\n",
              "  };\n",
              "\n",
              "  cancel.remove();\n",
              "\n",
              "  // Disable the input element since further picks are not allowed.\n",
              "  inputElement.disabled = true;\n",
              "\n",
              "  if (!files) {\n",
              "    return {\n",
              "      response: {\n",
              "        action: 'complete',\n",
              "      }\n",
              "    };\n",
              "  }\n",
              "\n",
              "  for (const file of files) {\n",
              "    const li = document.createElement('li');\n",
              "    li.append(span(file.name, {fontWeight: 'bold'}));\n",
              "    li.append(span(\n",
              "        `(${file.type || 'n/a'}) - ${file.size} bytes, ` +\n",
              "        `last modified: ${\n",
              "            file.lastModifiedDate ? file.lastModifiedDate.toLocaleDateString() :\n",
              "                                    'n/a'} - `));\n",
              "    const percent = span('0% done');\n",
              "    li.appendChild(percent);\n",
              "\n",
              "    outputElement.appendChild(li);\n",
              "\n",
              "    const fileDataPromise = new Promise((resolve) => {\n",
              "      const reader = new FileReader();\n",
              "      reader.onload = (e) => {\n",
              "        resolve(e.target.result);\n",
              "      };\n",
              "      reader.readAsArrayBuffer(file);\n",
              "    });\n",
              "    // Wait for the data to be ready.\n",
              "    let fileData = yield {\n",
              "      promise: fileDataPromise,\n",
              "      response: {\n",
              "        action: 'continue',\n",
              "      }\n",
              "    };\n",
              "\n",
              "    // Use a chunked sending to avoid message size limits. See b/62115660.\n",
              "    let position = 0;\n",
              "    do {\n",
              "      const length = Math.min(fileData.byteLength - position, MAX_PAYLOAD_SIZE);\n",
              "      const chunk = new Uint8Array(fileData, position, length);\n",
              "      position += length;\n",
              "\n",
              "      const base64 = btoa(String.fromCharCode.apply(null, chunk));\n",
              "      yield {\n",
              "        response: {\n",
              "          action: 'append',\n",
              "          file: file.name,\n",
              "          data: base64,\n",
              "        },\n",
              "      };\n",
              "\n",
              "      let percentDone = fileData.byteLength === 0 ?\n",
              "          100 :\n",
              "          Math.round((position / fileData.byteLength) * 100);\n",
              "      percent.textContent = `${percentDone}% done`;\n",
              "\n",
              "    } while (position < fileData.byteLength);\n",
              "  }\n",
              "\n",
              "  // All done.\n",
              "  yield {\n",
              "    response: {\n",
              "      action: 'complete',\n",
              "    }\n",
              "  };\n",
              "}\n",
              "\n",
              "scope.google = scope.google || {};\n",
              "scope.google.colab = scope.google.colab || {};\n",
              "scope.google.colab._files = {\n",
              "  _uploadFiles,\n",
              "  _uploadFilesContinue,\n",
              "};\n",
              "})(self);\n",
              "</script> "
            ],
            "text/plain": [
              "<IPython.core.display.HTML object>"
            ]
          },
          "metadata": {},
          "output_type": "display_data"
        },
        {
          "name": "stdout",
          "output_type": "stream",
          "text": [
            "Saving OIP.jpeg to OIP.jpeg\n"
          ]
        }
      ],
      "source": [
        "image = load_image_from_upload().convert(\"RGB\").resize((224, 224))"
      ]
    },
    {
      "cell_type": "code",
      "execution_count": null,
      "metadata": {
        "colab": {
          "base_uri": "https://localhost:8080/"
        },
        "id": "pdfBUXg64Pkl",
        "outputId": "25d3af01-a121-45ee-bb23-5c7288a9c0e3"
      },
      "outputs": [
        {
          "name": "stdout",
          "output_type": "stream",
          "text": [
            "1/1 [==============================] - 0s 131ms/step\n"
          ]
        }
      ],
      "source": [
        "image = tf.keras.applications.convnext.preprocess_input(np.array(image)[None, ...])\n",
        "pred = model.predict(image)[0]"
      ]
    },
    {
      "cell_type": "code",
      "execution_count": null,
      "metadata": {
        "colab": {
          "base_uri": "https://localhost:8080/"
        },
        "id": "YTjEAqlNE0XO",
        "outputId": "c61a0c09-2844-4111-ecf5-ef05e8e4badf"
      },
      "outputs": [
        {
          "name": "stdout",
          "output_type": "stream",
          "text": [
            "(80, 'n02106030-collie', 0.0003151966)\n",
            "(34, 'n02094114-Norfolk_terrier', 0.00038235827)\n",
            "(54, 'n02099267-flat-coated_retriever', 0.0006034258)\n",
            "(57, 'n02099712-Labrador_retriever', 0.0012093512)\n",
            "(56, 'n02099601-golden_retriever', 0.99134594)\n"
          ]
        }
      ],
      "source": [
        "best = pred.argsort()[-5:]\n",
        "names = [class_dict[x] for x in best]\n",
        "scores = pred[best]\n",
        "\n",
        "for i in zip(best, names, scores):\n",
        "    print(i)"
      ]
    }
  ],
  "metadata": {
    "accelerator": "GPU",
    "colab": {
      "provenance": []
    },
    "gpuClass": "standard",
    "kernelspec": {
      "display_name": "Python 3",
      "name": "python3"
    },
    "language_info": {
      "name": "python"
    }
  },
  "nbformat": 4,
  "nbformat_minor": 0
}