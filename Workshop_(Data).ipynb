{
  "nbformat": 4,
  "nbformat_minor": 0,
  "metadata": {
    "colab": {
      "provenance": []
    },
    "kernelspec": {
      "name": "python3",
      "display_name": "Python 3"
    },
    "language_info": {
      "name": "python"
    },
    "gpuClass": "standard"
  },
  "cells": [
    {
      "cell_type": "code",
      "execution_count": null,
      "metadata": {
        "id": "MXlTnCO7q7o2"
      },
      "outputs": [],
      "source": [
        "!wget http://vision.stanford.edu/aditya86/ImageNetDogs/images.tar\n",
        "!tar -xf images.tar"
      ]
    },
    {
      "cell_type": "code",
      "source": [
        "from PIL import Image\n",
        "import os\n",
        "import numpy as np\n",
        "from typing import List, Tuple, Dict\n",
        "from multiprocessing import Pool\n",
        "import pickle\n",
        "from google.colab import drive"
      ],
      "metadata": {
        "id": "bO0OveNtsGz_"
      },
      "execution_count": null,
      "outputs": []
    },
    {
      "cell_type": "code",
      "source": [
        "def load_image(filename: str, folder_path: str) -> np.ndarray:\n",
        "    \"\"\"\n",
        "    Load an image from a file and resize it to 224x224.\n",
        "\n",
        "    Args:\n",
        "        filename: The name of the file to load.\n",
        "        folder_path: The path to the folder containing the file.\n",
        "\n",
        "    Returns:\n",
        "        A numpy array with shape (224, 224, 3) containing the loaded image.\n",
        "    \"\"\"\n",
        "    img = Image.open(os.path.join(folder_path, filename)).convert('RGB')\n",
        "    img = img.resize((224, 224))\n",
        "    return np.array(img)\n",
        "\n",
        "def load_images_from_folder(folder_path: str) -> List[np.ndarray]:\n",
        "    \"\"\"\n",
        "    Load images from a directory and resize them to 224x224.\n",
        "\n",
        "    Args:\n",
        "        folder_path: Path to the directory containing images.\n",
        "\n",
        "    Returns:\n",
        "        A list of numpy arrays, where each array corresponds to an image\n",
        "        in the directory and has shape (224, 224, 3) (for the RGB color channels).\n",
        "    \"\"\"\n",
        "    with Pool() as p:\n",
        "        filenames = os.listdir(folder_path)[:30]\n",
        "        image_list = p.starmap(load_image, [(filename, folder_path) for filename in filenames])\n",
        "    return image_list\n",
        "\n",
        "def load_images_from_local_folder() -> Tuple[np.ndarray, np.ndarray, Dict[int, str]]:\n",
        "    \"\"\"\n",
        "    Load images from the \"Images\" folder and resize them to 224x224.\n",
        "\n",
        "    Returns:\n",
        "        A tuple of three numpy arrays:\n",
        "        - images: an array of shape (num_images, 224, 224, 3) containing all the images.\n",
        "        - labels: an array of shape (num_images,) containing the corresponding labels.\n",
        "        - class_dict: a dictionary mapping class indices to class names (dog breeds).\n",
        "    \"\"\"\n",
        "    root_folder = 'Images'\n",
        "    classes = sorted(os.listdir(root_folder))\n",
        "    images = []\n",
        "    labels = []\n",
        "    class_dict = {}\n",
        "    for i, class_name in enumerate(classes):\n",
        "        class_folder = os.path.join(root_folder, class_name)\n",
        "        if os.path.isdir(class_folder):\n",
        "            print(f\"Loading images for class {i}: {class_name}\")\n",
        "            class_images = load_images_from_folder(class_folder)\n",
        "            class_labels = [i] * len(class_images)\n",
        "            images.extend(class_images)\n",
        "            labels.extend(class_labels)\n",
        "            class_dict[i] = class_name\n",
        "    return np.array(images), np.array(labels), class_dict\n",
        "\n",
        "def save_to_drive(images: np.ndarray, labels: np.ndarray, class_dict: Dict[int, str], folder_name: str):\n",
        "    \"\"\"\n",
        "    Save images and labels to .npy and .pkl files in the user's Google Drive.\n",
        "\n",
        "    Args:\n",
        "        images: a numpy array of shape (num_images, 224, 224, 3) containing the images.\n",
        "        labels: a numpy array of shape (num_images,) containing the corresponding labels.\n",
        "        class_dict: a dictionary mapping class indices to class names (dog breeds).\n",
        "        folder_name: the name of the folder to create in the user's Google Drive.\n",
        "\n",
        "    Returns:\n",
        "        None.\n",
        "    \"\"\"\n",
        "    drive.mount('/content/drive')\n",
        "    folder_path = os.path.join('/content/drive/My Drive', folder_name)\n",
        "    os.makedirs(folder_path, exist_ok=True)\n",
        "    np.save(os.path.join(folder_path, 'images.npy'), images)\n",
        "    np.save(os.path.join(folder_path, 'labels.npy'), labels)\n",
        "    with open(os.path.join(folder_path, 'class_mapping.pkl'), 'wb') as f:\n",
        "        pickle.dump(class_dict, f)\n",
        "    print(f\"Saved {len(images)} images and labels to {folder_name} in Google Drive\")"
      ],
      "metadata": {
        "id": "XB-sUzgrzeEB"
      },
      "execution_count": null,
      "outputs": []
    },
    {
      "cell_type": "code",
      "source": [
        "images, labels, class_dict = load_images_from_local_folder()"
      ],
      "metadata": {
        "id": "q64LkEMLtkAX"
      },
      "execution_count": null,
      "outputs": []
    },
    {
      "cell_type": "code",
      "source": [
        "save_to_drive(images, labels, class_dict, 'michael_tanmay_ibm_ai_workshop')"
      ],
      "metadata": {
        "id": "UnCho3c4tucg"
      },
      "execution_count": null,
      "outputs": []
    }
  ]
}