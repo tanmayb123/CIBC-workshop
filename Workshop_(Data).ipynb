{
  "nbformat": 4,
  "nbformat_minor": 0,
  "metadata": {
    "colab": {
      "provenance": []
    },
    "kernelspec": {
      "name": "python3",
      "display_name": "Python 3"
    },
    "language_info": {
      "name": "python"
    },
    "gpuClass": "standard"
  },
  "cells": [
    {
      "cell_type": "code",
      "execution_count": null,
      "metadata": {
        "colab": {
          "base_uri": "https://localhost:8080/"
        },
        "id": "MXlTnCO7q7o2",
        "outputId": "5528be00-82ef-4daf-fd02-1e40c8ef3659"
      },
      "outputs": [
        {
          "output_type": "stream",
          "name": "stdout",
          "text": [
            "--2023-02-27 23:34:07--  http://vision.stanford.edu/aditya86/ImageNetDogs/images.tar\n",
            "Resolving vision.stanford.edu (vision.stanford.edu)... 171.64.68.10\n",
            "Connecting to vision.stanford.edu (vision.stanford.edu)|171.64.68.10|:80... connected.\n",
            "HTTP request sent, awaiting response... 200 OK\n",
            "Length: 793579520 (757M) [application/x-tar]\n",
            "Saving to: ‘images.tar’\n",
            "\n",
            "images.tar          100%[===================>] 756.82M  17.3MB/s    in 39s     \n",
            "\n",
            "2023-02-27 23:34:46 (19.2 MB/s) - ‘images.tar’ saved [793579520/793579520]\n",
            "\n"
          ]
        }
      ],
      "source": [
        "!wget http://vision.stanford.edu/aditya86/ImageNetDogs/images.tar\n",
        "!tar -xf images.tar"
      ]
    },
    {
      "cell_type": "code",
      "source": [
        "from PIL import Image\n",
        "import os\n",
        "import numpy as np\n",
        "from typing import List, Tuple, Dict\n",
        "from multiprocessing import Pool\n",
        "import pickle\n",
        "from google.colab import drive"
      ],
      "metadata": {
        "id": "bO0OveNtsGz_"
      },
      "execution_count": null,
      "outputs": []
    },
    {
      "cell_type": "code",
      "source": [
        "def load_image(filename: str, folder_path: str) -> np.ndarray:\n",
        "    \"\"\"\n",
        "    Load an image from a file and resize it to 224x224.\n",
        "\n",
        "    Args:\n",
        "        filename: The name of the file to load.\n",
        "        folder_path: The path to the folder containing the file.\n",
        "\n",
        "    Returns:\n",
        "        A numpy array with shape (224, 224, 3) containing the loaded image.\n",
        "    \"\"\"\n",
        "    img = Image.open(os.path.join(folder_path, filename)).convert('RGB')\n",
        "    img = img.resize((224, 224))\n",
        "    return np.array(img)\n",
        "\n",
        "def load_images_from_folder(folder_path: str) -> List[np.ndarray]:\n",
        "    \"\"\"\n",
        "    Load images from a directory and resize them to 224x224.\n",
        "\n",
        "    Args:\n",
        "        folder_path: Path to the directory containing images.\n",
        "\n",
        "    Returns:\n",
        "        A list of numpy arrays, where each array corresponds to an image\n",
        "        in the directory and has shape (224, 224, 3) (for the RGB color channels).\n",
        "    \"\"\"\n",
        "    with Pool() as p:\n",
        "        filenames = os.listdir(folder_path)[:30]\n",
        "        image_list = p.starmap(load_image, [(filename, folder_path) for filename in filenames])\n",
        "    return image_list\n",
        "\n",
        "def load_images_from_local_folder() -> Tuple[np.ndarray, np.ndarray, Dict[int, str]]:\n",
        "    \"\"\"\n",
        "    Load images from the \"Images\" folder and resize them to 224x224.\n",
        "\n",
        "    Returns:\n",
        "        A tuple of three numpy arrays:\n",
        "        - images: an array of shape (num_images, 224, 224, 3) containing all the images.\n",
        "        - labels: an array of shape (num_images,) containing the corresponding labels.\n",
        "        - class_dict: a dictionary mapping class indices to class names (dog breeds).\n",
        "    \"\"\"\n",
        "    root_folder = 'Images'\n",
        "    classes = sorted(os.listdir(root_folder))\n",
        "    images = []\n",
        "    labels = []\n",
        "    class_dict = {}\n",
        "    for i, class_name in enumerate(classes):\n",
        "        class_folder = os.path.join(root_folder, class_name)\n",
        "        if os.path.isdir(class_folder):\n",
        "            print(f\"Loading images for class {i}: {class_name}\")\n",
        "            class_images = load_images_from_folder(class_folder)\n",
        "            class_labels = [i] * len(class_images)\n",
        "            images.extend(class_images)\n",
        "            labels.extend(class_labels)\n",
        "            class_dict[i] = class_name\n",
        "    return np.array(images), np.array(labels), class_dict\n",
        "\n",
        "def save_to_drive(images: np.ndarray, labels: np.ndarray, class_dict: Dict[int, str], folder_name: str):\n",
        "    \"\"\"\n",
        "    Save images and labels to .npy and .pkl files in the user's Google Drive.\n",
        "\n",
        "    Args:\n",
        "        images: a numpy array of shape (num_images, 224, 224, 3) containing the images.\n",
        "        labels: a numpy array of shape (num_images,) containing the corresponding labels.\n",
        "        class_dict: a dictionary mapping class indices to class names (dog breeds).\n",
        "        folder_name: the name of the folder to create in the user's Google Drive.\n",
        "\n",
        "    Returns:\n",
        "        None.\n",
        "    \"\"\"\n",
        "    drive.mount('/content/drive')\n",
        "    folder_path = os.path.join('/content/drive/My Drive', folder_name)\n",
        "    os.makedirs(folder_path, exist_ok=True)\n",
        "    np.save(os.path.join(folder_path, 'images.npy'), images)\n",
        "    np.save(os.path.join(folder_path, 'labels.npy'), labels)\n",
        "    with open(os.path.join(folder_path, 'class_mapping.pkl'), 'wb') as f:\n",
        "        pickle.dump(class_dict, f)\n",
        "    print(f\"Saved {len(images)} images and labels to {folder_name} in Google Drive\")"
      ],
      "metadata": {
        "id": "XB-sUzgrzeEB"
      },
      "execution_count": null,
      "outputs": []
    },
    {
      "cell_type": "code",
      "source": [
        "images, labels, class_dict = load_images_from_local_folder()"
      ],
      "metadata": {
        "colab": {
          "base_uri": "https://localhost:8080/"
        },
        "id": "q64LkEMLtkAX",
        "outputId": "8f060aeb-5201-483a-cd3e-f6d4b3a1d971"
      },
      "execution_count": null,
      "outputs": [
        {
          "output_type": "stream",
          "name": "stdout",
          "text": [
            "Loading images for class 0: n02085620-Chihuahua\n",
            "Loading images for class 1: n02085782-Japanese_spaniel\n",
            "Loading images for class 2: n02085936-Maltese_dog\n",
            "Loading images for class 3: n02086079-Pekinese\n",
            "Loading images for class 4: n02086240-Shih-Tzu\n",
            "Loading images for class 5: n02086646-Blenheim_spaniel\n",
            "Loading images for class 6: n02086910-papillon\n",
            "Loading images for class 7: n02087046-toy_terrier\n",
            "Loading images for class 8: n02087394-Rhodesian_ridgeback\n",
            "Loading images for class 9: n02088094-Afghan_hound\n",
            "Loading images for class 10: n02088238-basset\n",
            "Loading images for class 11: n02088364-beagle\n",
            "Loading images for class 12: n02088466-bloodhound\n",
            "Loading images for class 13: n02088632-bluetick\n",
            "Loading images for class 14: n02089078-black-and-tan_coonhound\n",
            "Loading images for class 15: n02089867-Walker_hound\n",
            "Loading images for class 16: n02089973-English_foxhound\n",
            "Loading images for class 17: n02090379-redbone\n",
            "Loading images for class 18: n02090622-borzoi\n",
            "Loading images for class 19: n02090721-Irish_wolfhound\n",
            "Loading images for class 20: n02091032-Italian_greyhound\n",
            "Loading images for class 21: n02091134-whippet\n",
            "Loading images for class 22: n02091244-Ibizan_hound\n",
            "Loading images for class 23: n02091467-Norwegian_elkhound\n",
            "Loading images for class 24: n02091635-otterhound\n",
            "Loading images for class 25: n02091831-Saluki\n",
            "Loading images for class 26: n02092002-Scottish_deerhound\n",
            "Loading images for class 27: n02092339-Weimaraner\n",
            "Loading images for class 28: n02093256-Staffordshire_bullterrier\n",
            "Loading images for class 29: n02093428-American_Staffordshire_terrier\n",
            "Loading images for class 30: n02093647-Bedlington_terrier\n",
            "Loading images for class 31: n02093754-Border_terrier\n",
            "Loading images for class 32: n02093859-Kerry_blue_terrier\n",
            "Loading images for class 33: n02093991-Irish_terrier\n",
            "Loading images for class 34: n02094114-Norfolk_terrier\n",
            "Loading images for class 35: n02094258-Norwich_terrier\n",
            "Loading images for class 36: n02094433-Yorkshire_terrier\n",
            "Loading images for class 37: n02095314-wire-haired_fox_terrier\n",
            "Loading images for class 38: n02095570-Lakeland_terrier\n",
            "Loading images for class 39: n02095889-Sealyham_terrier\n",
            "Loading images for class 40: n02096051-Airedale\n",
            "Loading images for class 41: n02096177-cairn\n",
            "Loading images for class 42: n02096294-Australian_terrier\n",
            "Loading images for class 43: n02096437-Dandie_Dinmont\n",
            "Loading images for class 44: n02096585-Boston_bull\n",
            "Loading images for class 45: n02097047-miniature_schnauzer\n",
            "Loading images for class 46: n02097130-giant_schnauzer\n",
            "Loading images for class 47: n02097209-standard_schnauzer\n",
            "Loading images for class 48: n02097298-Scotch_terrier\n",
            "Loading images for class 49: n02097474-Tibetan_terrier\n",
            "Loading images for class 50: n02097658-silky_terrier\n",
            "Loading images for class 51: n02098105-soft-coated_wheaten_terrier\n",
            "Loading images for class 52: n02098286-West_Highland_white_terrier\n",
            "Loading images for class 53: n02098413-Lhasa\n",
            "Loading images for class 54: n02099267-flat-coated_retriever\n",
            "Loading images for class 55: n02099429-curly-coated_retriever\n",
            "Loading images for class 56: n02099601-golden_retriever\n",
            "Loading images for class 57: n02099712-Labrador_retriever\n",
            "Loading images for class 58: n02099849-Chesapeake_Bay_retriever\n",
            "Loading images for class 59: n02100236-German_short-haired_pointer\n",
            "Loading images for class 60: n02100583-vizsla\n",
            "Loading images for class 61: n02100735-English_setter\n",
            "Loading images for class 62: n02100877-Irish_setter\n",
            "Loading images for class 63: n02101006-Gordon_setter\n",
            "Loading images for class 64: n02101388-Brittany_spaniel\n",
            "Loading images for class 65: n02101556-clumber\n",
            "Loading images for class 66: n02102040-English_springer\n",
            "Loading images for class 67: n02102177-Welsh_springer_spaniel\n",
            "Loading images for class 68: n02102318-cocker_spaniel\n",
            "Loading images for class 69: n02102480-Sussex_spaniel\n",
            "Loading images for class 70: n02102973-Irish_water_spaniel\n",
            "Loading images for class 71: n02104029-kuvasz\n",
            "Loading images for class 72: n02104365-schipperke\n",
            "Loading images for class 73: n02105056-groenendael\n",
            "Loading images for class 74: n02105162-malinois\n",
            "Loading images for class 75: n02105251-briard\n",
            "Loading images for class 76: n02105412-kelpie\n",
            "Loading images for class 77: n02105505-komondor\n",
            "Loading images for class 78: n02105641-Old_English_sheepdog\n",
            "Loading images for class 79: n02105855-Shetland_sheepdog\n",
            "Loading images for class 80: n02106030-collie\n",
            "Loading images for class 81: n02106166-Border_collie\n",
            "Loading images for class 82: n02106382-Bouvier_des_Flandres\n",
            "Loading images for class 83: n02106550-Rottweiler\n",
            "Loading images for class 84: n02106662-German_shepherd\n",
            "Loading images for class 85: n02107142-Doberman\n",
            "Loading images for class 86: n02107312-miniature_pinscher\n",
            "Loading images for class 87: n02107574-Greater_Swiss_Mountain_dog\n",
            "Loading images for class 88: n02107683-Bernese_mountain_dog\n",
            "Loading images for class 89: n02107908-Appenzeller\n",
            "Loading images for class 90: n02108000-EntleBucher\n",
            "Loading images for class 91: n02108089-boxer\n",
            "Loading images for class 92: n02108422-bull_mastiff\n",
            "Loading images for class 93: n02108551-Tibetan_mastiff\n",
            "Loading images for class 94: n02108915-French_bulldog\n",
            "Loading images for class 95: n02109047-Great_Dane\n",
            "Loading images for class 96: n02109525-Saint_Bernard\n",
            "Loading images for class 97: n02109961-Eskimo_dog\n",
            "Loading images for class 98: n02110063-malamute\n",
            "Loading images for class 99: n02110185-Siberian_husky\n",
            "Loading images for class 100: n02110627-affenpinscher\n",
            "Loading images for class 101: n02110806-basenji\n",
            "Loading images for class 102: n02110958-pug\n",
            "Loading images for class 103: n02111129-Leonberg\n",
            "Loading images for class 104: n02111277-Newfoundland\n",
            "Loading images for class 105: n02111500-Great_Pyrenees\n",
            "Loading images for class 106: n02111889-Samoyed\n",
            "Loading images for class 107: n02112018-Pomeranian\n",
            "Loading images for class 108: n02112137-chow\n",
            "Loading images for class 109: n02112350-keeshond\n",
            "Loading images for class 110: n02112706-Brabancon_griffon\n",
            "Loading images for class 111: n02113023-Pembroke\n",
            "Loading images for class 112: n02113186-Cardigan\n",
            "Loading images for class 113: n02113624-toy_poodle\n",
            "Loading images for class 114: n02113712-miniature_poodle\n",
            "Loading images for class 115: n02113799-standard_poodle\n",
            "Loading images for class 116: n02113978-Mexican_hairless\n",
            "Loading images for class 117: n02115641-dingo\n",
            "Loading images for class 118: n02115913-dhole\n",
            "Loading images for class 119: n02116738-African_hunting_dog\n"
          ]
        }
      ]
    },
    {
      "cell_type": "code",
      "source": [
        "save_to_drive(images, labels, class_dict, 'michael_tanmay_ibm_ai_workshop')"
      ],
      "metadata": {
        "colab": {
          "base_uri": "https://localhost:8080/"
        },
        "id": "UnCho3c4tucg",
        "outputId": "96956370-1e33-4c12-dbb1-dc5b87d99246"
      },
      "execution_count": null,
      "outputs": [
        {
          "output_type": "stream",
          "name": "stdout",
          "text": [
            "Mounted at /content/drive\n",
            "Saved 3600 images and labels to michael_tanmay_ibm_ai_workshop in Google Drive\n"
          ]
        }
      ]
    }
  ]
}